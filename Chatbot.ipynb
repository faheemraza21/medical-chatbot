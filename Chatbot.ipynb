{
 "cells": [
  {
   "cell_type": "code",
   "execution_count": 2,
   "metadata": {},
   "outputs": [],
   "source": [
    "from langchain_community.llms import ollama\n",
    "from langchain_community.document_loaders import WebBaseLoader\n",
    "from langchain_community.vectorstores import Chroma\n",
    "from langchain_text_splitters import RecursiveCharacterTextSplitter\n",
    "from langchain_community.embeddings import OllamaEmbeddings"
   ]
  },
  {
   "cell_type": "code",
   "execution_count": 3,
   "metadata": {},
   "outputs": [],
   "source": [
    "from langchain_cohere import CohereEmbeddings\n",
    "from langchain_cohere.llms import Cohere\n",
    "\n",
    "embeddings_model = CohereEmbeddings(cohere_api_key=\"grdx0fgxNe8k98pEL83jfNPYl2eXfUYgZcMR41XE\")\n",
    "\n",
    "llm=Cohere(cohere_api_key=\"grdx0fgxNe8k98pEL83jfNPYl2eXfUYgZcMR41XE\")\n"
   ]
  },
  {
   "cell_type": "code",
   "execution_count": 5,
   "metadata": {},
   "outputs": [],
   "source": [
    "\n",
    "from langchain_community.document_loaders import PyPDFLoader\n",
    "\n",
    "loader=PyPDFLoader(\"med.pdf\")\n",
    "data1=loader.load()"
   ]
  },
  {
   "cell_type": "code",
   "execution_count": 6,
   "metadata": {},
   "outputs": [],
   "source": [
    "#Text splitting \n",
    "text_splitter=RecursiveCharacterTextSplitter(chunk_size=2500, chunk_overlap=500)\n",
    "docs1=text_splitter.split_documents(data1)"
   ]
  },
  {
   "cell_type": "code",
   "execution_count": 7,
   "metadata": {},
   "outputs": [],
   "source": [
    "\n",
    "embeddings_model = CohereEmbeddings(cohere_api_key=\"grdx0fgxNe8k98pEL83jfNPYl2eXfUYgZcMR41XE\")\n",
    "\n",
    "db1=Chroma.from_documents(documents=docs1, embedding=embeddings_model)"
   ]
  },
  {
   "cell_type": "code",
   "execution_count": 8,
   "metadata": {},
   "outputs": [],
   "source": [
    "## Design ChatPrompt Template\n",
    "from langchain_core.prompts import ChatPromptTemplate\n",
    "prompt = ChatPromptTemplate.from_template(\"\"\"\n",
    "Answer the following question based only on the provided context. \n",
    "Think step by step before providing a detailed answer. \n",
    "\n",
    "<context>\n",
    "{context}\n",
    "</context>\n",
    "Question: {input}\"\"\")"
   ]
  },
  {
   "cell_type": "code",
   "execution_count": 10,
   "metadata": {},
   "outputs": [],
   "source": [
    "## Chain Introduction\n",
    "## Create Stuff Docment Chain\n",
    "\n",
    "from langchain.chains.combine_documents import create_stuff_documents_chain\n",
    "\n",
    "document_chain=create_stuff_documents_chain(llm,prompt)"
   ]
  },
  {
   "cell_type": "code",
   "execution_count": 11,
   "metadata": {},
   "outputs": [],
   "source": [
    "retriever=db1.as_retriever()\n",
    "retriever\n",
    "\n",
    "from langchain.chains import create_retrieval_chain\n",
    "retrieval_chain=create_retrieval_chain(retriever,document_chain)"
   ]
  },
  {
   "cell_type": "code",
   "execution_count": 12,
   "metadata": {},
   "outputs": [
    {
     "data": {
      "text/plain": [
       "'Here is a list of common gastrointestinal drugs, also including some additional information on what they are typically prescribed for, and in what form they are administered: \\n\\n1. Omeprazole: Omeprazole is a proton pump inhibitor (PPI) and is typically used for the treatment of gastroesophageal reflux disease (GERD), gastric ulcers, and duodenal ulcers. It is administered in oral form, as a tablet or an orally disintegrating tablet. \\n\\n2. Metoclopramide: Metoclopramide is a prokinetic drug that helps stimulate stomach and intestine contractions. It is typically used for the treatment of heartburn, nausea, and vomiting. It is administered in oral form, as a tablet or liquid. \\n\\n3. Aluminum Hydroxide/Magnesium Hydroxide: These ingredients are typically found in antacids and are used to treat heartburn and indigestion. They are administered in oral form, as a tablet or liquid. \\n\\n4. Azithromycin: Azithromycin is an antibiotic and is typically used for the treatment of gastrointestinal infections such as diarrhea. It is administered in oral form, as a tablet or liquid. \\n\\n5. Ciprofloxacin: Ciprofloxacin is a fluoroquinolone antibiotic and is typically used for the treatment of gastrointestinal infections such as diarrhea. It is administered in oral form, as a tablet or liquid. \\n\\n6. Tinidazole/Metronidazole: Tinidazole and Metronidazole are antibiotics and are typically used for the treatment of gastrointestinal infections such as diarrhea. They are administered in oral form, as a tablet or liquid. \\n\\nIt is important to note that the usage of these drugs depends on the individual conditions and the prescriptions from medical professionals. '"
      ]
     },
     "execution_count": 12,
     "metadata": {},
     "output_type": "execute_result"
    }
   ],
   "source": [
    "\n",
    "response=retrieval_chain.invoke({\"input\":\"list some Gastrointestinal drugs \"})\n",
    "\n",
    "response['answer']"
   ]
  },
  {
   "cell_type": "code",
   "execution_count": 14,
   "metadata": {},
   "outputs": [
    {
     "ename": "IndentationError",
     "evalue": "unexpected indent (35698829.py, line 3)",
     "output_type": "error",
     "traceback": [
      "\u001b[1;36m  Cell \u001b[1;32mIn[14], line 3\u001b[1;36m\u001b[0m\n\u001b[1;33m    st.tittle(\"ChatBot\")\u001b[0m\n\u001b[1;37m    ^\u001b[0m\n\u001b[1;31mIndentationError\u001b[0m\u001b[1;31m:\u001b[0m unexpected indent\n"
     ]
    }
   ],
   "source": []
  }
 ],
 "metadata": {
  "kernelspec": {
   "display_name": "Python 3",
   "language": "python",
   "name": "python3"
  },
  "language_info": {
   "codemirror_mode": {
    "name": "ipython",
    "version": 3
   },
   "file_extension": ".py",
   "mimetype": "text/x-python",
   "name": "python",
   "nbconvert_exporter": "python",
   "pygments_lexer": "ipython3",
   "version": "3.10.11"
  }
 },
 "nbformat": 4,
 "nbformat_minor": 2
}
